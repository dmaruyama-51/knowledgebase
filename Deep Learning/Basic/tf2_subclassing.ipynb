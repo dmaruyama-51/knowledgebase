{
  "nbformat": 4,
  "nbformat_minor": 0,
  "metadata": {
    "colab": {
      "name": "tf2_subclassing.ipynb",
      "provenance": []
    },
    "kernelspec": {
      "name": "python3",
      "display_name": "Python 3"
    },
    "accelerator": "GPU"
  },
  "cells": [
    {
      "cell_type": "code",
      "metadata": {
        "id": "CxJmst2T4nD0"
      },
      "source": [
        "import numpy as np \n",
        "from sklearn.model_selection import train_test_split\n",
        "\n",
        "import tensorflow as tf \n",
        "from tensorflow.keras import datasets, layers, models, optimizers, losses, metrics \n",
        "\n",
        "# データの準備\n",
        "mnist = datasets.mnist \n",
        "(x_train_val, t_train_val), (x_test, t_test) = mnist.load_data() \n",
        "x_train, x_val, t_train, t_val = train_test_split(x_train_val, t_train_val, test_size=0.3, random_state=0)"
      ],
      "execution_count": null,
      "outputs": []
    },
    {
      "cell_type": "code",
      "metadata": {
        "id": "oS_kQM6U5VdR"
      },
      "source": [
        "x_train = x_train[..., tf.newaxis] / 255.0\n",
        "x_val = x_val[..., tf.newaxis] / 255.0\n",
        "x_test = x_test[..., tf.newaxis] / 255.0"
      ],
      "execution_count": null,
      "outputs": []
    },
    {
      "cell_type": "code",
      "metadata": {
        "id": "lSOAq82bBlS3"
      },
      "source": [
        "# Augmentation\n",
        "def augment(image, label):\n",
        "  # img = tf.image.rot90(image)\n",
        "  img = tf.image.random_flip_left_right(image)\n",
        "  img = tf.image.random_flip_up_down(img)\n",
        "  return (img, label)"
      ],
      "execution_count": null,
      "outputs": []
    },
    {
      "cell_type": "code",
      "metadata": {
        "id": "JMILUM-i-EgA"
      },
      "source": [
        "batch_size = 256\n",
        "\n",
        "# train_ds = tf.data.Dataset.from_tensor_slices((x_train, t_train)).map(augment).shuffle(1000).batch(batch_size)\n",
        "train_ds = tf.data.Dataset.from_tensor_slices((x_train, t_train)).shuffle(1000).batch(batch_size)\n",
        "val_ds = tf.data.Dataset.from_tensor_slices((x_val, t_val)).batch(batch_size)\n",
        "test_ds = tf.data.Dataset.from_tensor_slices((x_test, t_test)).batch(batch_size)"
      ],
      "execution_count": null,
      "outputs": []
    },
    {
      "cell_type": "code",
      "metadata": {
        "id": "PcLSuq6_4pPx"
      },
      "source": [
        "# カスタム活性化関数\n",
        "def swish(x, beta=1):\n",
        "    return x * tf.nn.sigmoid(beta * x)\n",
        "\n",
        "# Early Stopping\n",
        "class EarlyStopping:\n",
        "    def __init__(self, patience=0, verbose=0):\n",
        "        self._step = 0 \n",
        "        self._loss = float('inf')\n",
        "        self.patience = patience \n",
        "        self.verbose = verbose \n",
        "    def __call__(self, loss):\n",
        "        if self._loss < loss:\n",
        "            self._step += 1 \n",
        "            if self._step > self.patience:\n",
        "                if self.verbose:\n",
        "                    print(\"early stopping\")\n",
        "                return True \n",
        "        else:\n",
        "            self._step = 0\n",
        "            self._loss = loss\n",
        "        return False"
      ],
      "execution_count": null,
      "outputs": []
    },
    {
      "cell_type": "code",
      "metadata": {
        "id": "-1Q3LyDm4uFr"
      },
      "source": [
        "# モデル\n",
        "class Net(models.Model):\n",
        "    def __init__(self, hidden_dim, output_dim):\n",
        "        super().__init__() \n",
        "        self.model = models.Sequential([\n",
        "            layers.BatchNormalization(),\n",
        "            layers.Conv2D(hidden_dim, kernel_size=3, activation=swish, kernel_initializer='he_normal'), \n",
        "            layers.Flatten(),\n",
        "            layers.Dropout(0.5),\n",
        "            layers.Dense(output_dim, activation=\"softmax\")\n",
        "        ])\n",
        "    def call(self, x):\n",
        "        return self.model(x)\n",
        "\n",
        "net = Net(64, 10)\n",
        "es = EarlyStopping()"
      ],
      "execution_count": null,
      "outputs": []
    },
    {
      "cell_type": "code",
      "metadata": {
        "id": "eJkMBQTI4wBA"
      },
      "source": [
        "criterion = losses.SparseCategoricalCrossentropy()\n",
        "optimizer = optimizers.Adam()\n",
        "train_loss = metrics.Mean()\n",
        "train_acc = metrics.SparseCategoricalAccuracy() \n",
        "val_loss = metrics.Mean()\n",
        "val_acc = metrics.SparseCategoricalAccuracy() "
      ],
      "execution_count": null,
      "outputs": []
    },
    {
      "cell_type": "code",
      "metadata": {
        "id": "APPQY_U-44Xe"
      },
      "source": [
        "@tf.function\n",
        "def train(x, t):\n",
        "    # 勾配算出するスコープを指定\n",
        "    with tf.GradientTape() as tape:\n",
        "        preds = net(x)\n",
        "        loss = criterion(t, preds)\n",
        "        grads = tape.gradient(loss, net.trainable_variables) # 逆伝播\n",
        "    # 更新\n",
        "    optimizer.apply_gradients(zip(grads, net.trainable_variables))\n",
        "    train_loss(loss)\n",
        "    train_acc(t, preds)\n",
        "    return loss \n",
        "\n",
        "def test(x, t):\n",
        "    preds = net(x)\n",
        "    loss = criterion(t, preds)\n",
        "    val_loss(loss)\n",
        "    val_acc(t, preds)"
      ],
      "execution_count": null,
      "outputs": []
    },
    {
      "cell_type": "code",
      "metadata": {
        "id": "-mlPpnwv5G-6"
      },
      "source": [
        "epochs = 50\n",
        "batch_size=256\n",
        "history = {'train_loss': [], 'train_acc': [], 'val_loss': [], 'val_acc': []}"
      ],
      "execution_count": null,
      "outputs": []
    },
    {
      "cell_type": "code",
      "metadata": {
        "id": "v0AS1rc85I41",
        "outputId": "e46e1632-38bc-4342-90a2-03b7710a05a9",
        "colab": {
          "base_uri": "https://localhost:8080/",
          "height": 989
        }
      },
      "source": [
        "#from tqdm import tqdm\n",
        "\n",
        "# 学習\n",
        "for epoch in range(epochs):\n",
        "    for batch in train_ds:\n",
        "        x, t = batch\n",
        "        train(x, t)\n",
        "    for batch in val_ds:\n",
        "        x, t = batch\n",
        "        test(x, t)\n",
        "\n",
        "    #　ログ\n",
        "    history['train_loss'].append(train_loss.result().numpy())\n",
        "    history['train_acc'].append(train_acc.result().numpy())\n",
        "    history['val_loss'].append(val_loss.result().numpy())\n",
        "    history['val_acc'].append(val_acc.result().numpy())\n",
        "\n",
        "    template = 'Epoch {}, Loss: {}, Accuracy: {}, Validation Loss: {}, Validation Accuracy: {}'\n",
        "    print (template.format(epoch+1,\n",
        "                         train_loss.result(),\n",
        "                         train_acc.result()*100,\n",
        "                         val_loss.result(),\n",
        "                         val_acc.result()*100))\n",
        "\n",
        "    train_loss.reset_states()\n",
        "    train_acc.reset_states()\n",
        "    val_loss.reset_states()\n",
        "    val_acc.reset_states()\n",
        "\n",
        "    # Early Stopping\n",
        "    #if es(val_loss): \n",
        "    #    break"
      ],
      "execution_count": null,
      "outputs": [
        {
          "output_type": "stream",
          "text": [
            "WARNING:tensorflow:Layer net_1 is casting an input tensor from dtype float64 to the layer's dtype of float32, which is new behavior in TensorFlow 2.  The layer has dtype float32 because its dtype defaults to floatx.\n",
            "\n",
            "If you intended to run this layer in float32, you can safely ignore this warning. If in doubt, this warning is likely only an issue if you are porting a TensorFlow 1.X model to TensorFlow 2.\n",
            "\n",
            "To change all layers to have dtype float64 by default, call `tf.keras.backend.set_floatx('float64')`. To change just this layer, pass dtype='float64' to the layer constructor. If you are the author of this layer, you can disable autocasting by passing autocast=False to the base Layer constructor.\n",
            "\n",
            "Epoch 1, Loss: 0.3190842270851135, Accuracy: 90.47856903076172, Validation Loss: 0.17704255878925323, Validation Accuracy: 95.13333129882812\n",
            "Epoch 2, Loss: 0.12972302734851837, Accuracy: 96.31190490722656, Validation Loss: 0.12080865353345871, Validation Accuracy: 96.81111145019531\n",
            "Epoch 3, Loss: 0.07674852758646011, Accuracy: 97.7642822265625, Validation Loss: 0.10612086951732635, Validation Accuracy: 96.97222137451172\n",
            "Epoch 4, Loss: 0.05116790905594826, Accuracy: 98.51667022705078, Validation Loss: 0.09350661188364029, Validation Accuracy: 97.29444122314453\n",
            "Epoch 5, Loss: 0.03462782874703407, Accuracy: 98.99285125732422, Validation Loss: 0.09433655440807343, Validation Accuracy: 97.3499984741211\n",
            "Epoch 6, Loss: 0.023385029286146164, Accuracy: 99.3499984741211, Validation Loss: 0.0962899774312973, Validation Accuracy: 97.44444274902344\n",
            "Epoch 7, Loss: 0.017201734706759453, Accuracy: 99.56190490722656, Validation Loss: 0.09876854717731476, Validation Accuracy: 97.51667022705078\n",
            "Epoch 8, Loss: 0.01235737930983305, Accuracy: 99.70952606201172, Validation Loss: 0.10180602222681046, Validation Accuracy: 97.44999694824219\n",
            "Epoch 9, Loss: 0.009230495430529118, Accuracy: 99.80000305175781, Validation Loss: 0.10565466433763504, Validation Accuracy: 97.55555725097656\n",
            "Epoch 10, Loss: 0.010746599175035954, Accuracy: 99.67857360839844, Validation Loss: 0.11539363861083984, Validation Accuracy: 97.46666717529297\n",
            "Epoch 11, Loss: 0.006948868278414011, Accuracy: 99.83333587646484, Validation Loss: 0.11183711886405945, Validation Accuracy: 97.5888900756836\n",
            "Epoch 12, Loss: 0.005893841851502657, Accuracy: 99.83809661865234, Validation Loss: 0.12436172366142273, Validation Accuracy: 97.44444274902344\n",
            "Epoch 13, Loss: 0.004798744339495897, Accuracy: 99.87142944335938, Validation Loss: 0.12761889398097992, Validation Accuracy: 97.47777557373047\n",
            "Epoch 14, Loss: 0.006267226301133633, Accuracy: 99.8214340209961, Validation Loss: 0.140437051653862, Validation Accuracy: 97.24443817138672\n",
            "Epoch 15, Loss: 0.015907341614365578, Accuracy: 99.46904754638672, Validation Loss: 0.1553427129983902, Validation Accuracy: 97.19999694824219\n",
            "Epoch 16, Loss: 0.018769683316349983, Accuracy: 99.33333587646484, Validation Loss: 0.1569139063358307, Validation Accuracy: 97.15555572509766\n",
            "Epoch 17, Loss: 0.0111521752551198, Accuracy: 99.5952377319336, Validation Loss: 0.14993621408939362, Validation Accuracy: 97.38333129882812\n",
            "Epoch 18, Loss: 0.00529993511736393, Accuracy: 99.8261947631836, Validation Loss: 0.14420261979103088, Validation Accuracy: 97.5888900756836\n",
            "Epoch 19, Loss: 0.0020239849109202623, Accuracy: 99.95238494873047, Validation Loss: 0.14070329070091248, Validation Accuracy: 97.51111602783203\n",
            "Epoch 20, Loss: 0.0009067484061233699, Accuracy: 99.98333740234375, Validation Loss: 0.14172466099262238, Validation Accuracy: 97.63333129882812\n",
            "Epoch 21, Loss: 0.0003157380851916969, Accuracy: 100.0, Validation Loss: 0.13772301375865936, Validation Accuracy: 97.64999389648438\n",
            "Epoch 22, Loss: 0.00017708441009745002, Accuracy: 100.0, Validation Loss: 0.13724474608898163, Validation Accuracy: 97.67222595214844\n",
            "Epoch 23, Loss: 0.0001432795252185315, Accuracy: 100.0, Validation Loss: 0.13739752769470215, Validation Accuracy: 97.68888854980469\n",
            "Epoch 24, Loss: 0.0001240784622495994, Accuracy: 100.0, Validation Loss: 0.13770905137062073, Validation Accuracy: 97.71666717529297\n",
            "Epoch 25, Loss: 0.00010933252633549273, Accuracy: 100.0, Validation Loss: 0.1379537582397461, Validation Accuracy: 97.72222137451172\n",
            "Epoch 26, Loss: 9.78587704594247e-05, Accuracy: 100.0, Validation Loss: 0.1382995992898941, Validation Accuracy: 97.74444580078125\n",
            "Epoch 27, Loss: 8.86463894858025e-05, Accuracy: 100.0, Validation Loss: 0.13869941234588623, Validation Accuracy: 97.75\n",
            "Epoch 28, Loss: 8.095836528809741e-05, Accuracy: 100.0, Validation Loss: 0.1390836536884308, Validation Accuracy: 97.75555419921875\n",
            "Epoch 29, Loss: 7.454240403603762e-05, Accuracy: 100.0, Validation Loss: 0.1395038515329361, Validation Accuracy: 97.75555419921875\n",
            "Epoch 30, Loss: 6.738767115166411e-05, Accuracy: 100.0, Validation Loss: 0.13987627625465393, Validation Accuracy: 97.75555419921875\n",
            "Epoch 31, Loss: 6.196180038386956e-05, Accuracy: 100.0, Validation Loss: 0.14029240608215332, Validation Accuracy: 97.74444580078125\n",
            "Epoch 32, Loss: 5.650851016980596e-05, Accuracy: 100.0, Validation Loss: 0.14073382318019867, Validation Accuracy: 97.7388916015625\n",
            "Epoch 33, Loss: 5.243879422778264e-05, Accuracy: 100.0, Validation Loss: 0.14120425283908844, Validation Accuracy: 97.74444580078125\n",
            "Epoch 34, Loss: 4.79184091091156e-05, Accuracy: 100.0, Validation Loss: 0.14165034890174866, Validation Accuracy: 97.75\n",
            "Epoch 35, Loss: 4.402417107485235e-05, Accuracy: 100.0, Validation Loss: 0.14217235147953033, Validation Accuracy: 97.74444580078125\n",
            "Epoch 36, Loss: 4.1265760955866426e-05, Accuracy: 100.0, Validation Loss: 0.14263319969177246, Validation Accuracy: 97.7388916015625\n",
            "Epoch 37, Loss: 3.7555200833594427e-05, Accuracy: 100.0, Validation Loss: 0.1431572437286377, Validation Accuracy: 97.7388916015625\n",
            "Epoch 38, Loss: 3.4582910302560776e-05, Accuracy: 100.0, Validation Loss: 0.14363756775856018, Validation Accuracy: 97.76111602783203\n",
            "Epoch 39, Loss: 3.1793315429240465e-05, Accuracy: 100.0, Validation Loss: 0.14416618645191193, Validation Accuracy: 97.77222442626953\n",
            "Epoch 40, Loss: 2.9409351554932073e-05, Accuracy: 100.0, Validation Loss: 0.14467306435108185, Validation Accuracy: 97.75555419921875\n",
            "Epoch 41, Loss: 2.7029320335714146e-05, Accuracy: 100.0, Validation Loss: 0.14519265294075012, Validation Accuracy: 97.75555419921875\n",
            "Epoch 42, Loss: 2.5136021577054635e-05, Accuracy: 100.0, Validation Loss: 0.1456994116306305, Validation Accuracy: 97.75\n",
            "Epoch 43, Loss: 2.304645204276312e-05, Accuracy: 100.0, Validation Loss: 0.14626117050647736, Validation Accuracy: 97.75\n",
            "Epoch 44, Loss: 2.1380539692472667e-05, Accuracy: 100.0, Validation Loss: 0.14675122499465942, Validation Accuracy: 97.76111602783203\n",
            "Epoch 45, Loss: 1.9477887690300122e-05, Accuracy: 100.0, Validation Loss: 0.14723430573940277, Validation Accuracy: 97.76667022705078\n",
            "Epoch 46, Loss: 1.802510814741254e-05, Accuracy: 100.0, Validation Loss: 0.14782334864139557, Validation Accuracy: 97.75555419921875\n",
            "Epoch 47, Loss: 1.654135121498257e-05, Accuracy: 100.0, Validation Loss: 0.14836086332798004, Validation Accuracy: 97.77222442626953\n",
            "Epoch 48, Loss: 1.5233479643939063e-05, Accuracy: 100.0, Validation Loss: 0.14891396462917328, Validation Accuracy: 97.78333282470703\n",
            "Epoch 49, Loss: 1.4101296073931735e-05, Accuracy: 100.0, Validation Loss: 0.14948433637619019, Validation Accuracy: 97.76111602783203\n",
            "Epoch 50, Loss: 1.2937848623550963e-05, Accuracy: 100.0, Validation Loss: 0.1500886082649231, Validation Accuracy: 97.76667022705078\n"
          ],
          "name": "stdout"
        }
      ]
    },
    {
      "cell_type": "code",
      "metadata": {
        "id": "9uYayIoe5Ku5"
      },
      "source": [
        "import pandas as pd \n",
        "import matplotlib.pyplot as plt\n",
        "\n",
        "def results_plot(history):\n",
        "    plt.style.use('ggplot')\n",
        "    results = pd.DataFrame(history)\n",
        "    results[['train_loss', 'val_loss']].plot()\n",
        "    results[['train_acc', 'val_acc']].plot()\n",
        "    return results"
      ],
      "execution_count": null,
      "outputs": []
    },
    {
      "cell_type": "code",
      "metadata": {
        "id": "eTjy1E146xSG",
        "outputId": "16fc92f2-73f6-46d3-ffc7-425c61a84941",
        "colab": {
          "base_uri": "https://localhost:8080/",
          "height": 513
        }
      },
      "source": [
        "results = results_plot(history)"
      ],
      "execution_count": null,
      "outputs": [
        {
          "output_type": "display_data",
          "data": {
            "image/png": "[encoded data removed]",
            "text/plain": [
              "<Figure size 432x288 with 1 Axes>"
            ]
          },
          "metadata": {
            "tags": []
          }
        },
        {
          "output_type": "display_data",
          "data": {
            "image/png": "[encoded data removed]",
            "text/plain": [
              "<Figure size 432x288 with 1 Axes>"
            ]
          },
          "metadata": {
            "tags": []
          }
        }
      ]
    },
    {
      "cell_type": "markdown",
      "metadata": {
        "id": "SIQk57bj80hn"
      },
      "source": [
        "## CIFAR 10 で @tf.function の検証"
      ]
    },
    {
      "cell_type": "code",
      "metadata": {
        "id": "xvfa2mXNOXaT"
      },
      "source": [
        "import numpy as np \n",
        "\n",
        "import tensorflow as tf \n",
        "from tensorflow.keras import datasets, layers, models, optimizers, losses, metrics \n",
        "import tensorflow_datasets as tfds\n",
        "\n",
        "datasets = tfds.load(\"food101\", as_supervised=True)\n",
        "train, test = datasets['train'], datasets['validation']\n",
        "\n",
        "def scale(image, label):\n",
        "    image = tf.cast(image, tf.float32)\n",
        "    image /= 255.0\n",
        "    image = tf.image.resize(image, [224, 224])\n",
        "    return image, label\n",
        "\n",
        "batch_size = 32\n",
        "\n",
        "train_ds = train.map(scale).shuffle(10000, seed=0).batch(batch_size)\n",
        "test_ds = test.map(scale).batch(batch_size)"
      ],
      "execution_count": null,
      "outputs": []
    },
    {
      "cell_type": "code",
      "metadata": {
        "id": "6Q4yugZbOjyr"
      },
      "source": [
        "import tensorflow_hub as hub\n",
        "\n",
        "# モデル\n",
        "class Net(models.Model):\n",
        "    def __init__(self, output_dim=101):\n",
        "        super().__init__() \n",
        "        self.model = models.Sequential([\n",
        "            hub.KerasLayer(\n",
        "                \"https://tfhub.dev/google/tf2-preview/mobilenet_v2/feature_vector/2\",\n",
        "                input_shape=(224, 224, 3),\n",
        "                trainable=True\n",
        "                ),\n",
        "            layers.Dense(output_dim, activation=\"softmax\")\n",
        "        ])\n",
        "    def call(self, x):\n",
        "        return self.model(x)\n",
        "\n",
        "net = Net()"
      ],
      "execution_count": null,
      "outputs": []
    },
    {
      "cell_type": "code",
      "metadata": {
        "id": "H_DPlVXPPlwf"
      },
      "source": [
        "criterion = losses.SparseCategoricalCrossentropy()\n",
        "optimizer = optimizers.SGD(learning_rate=1e-3, momentum=0.9, nesterov=True)\n",
        "train_loss = metrics.Mean()\n",
        "train_acc = metrics.SparseCategoricalAccuracy() \n",
        "test_loss = metrics.Mean()\n",
        "test_acc = metrics.SparseCategoricalAccuracy() "
      ],
      "execution_count": null,
      "outputs": []
    },
    {
      "cell_type": "code",
      "metadata": {
        "id": "UP6dL9rKxtDQ"
      },
      "source": [
        "epochs = 1\n",
        "history = {'train_loss': [], 'train_acc': [], 'val_loss': [], 'val_acc': []}"
      ],
      "execution_count": null,
      "outputs": []
    },
    {
      "cell_type": "code",
      "metadata": {
        "id": "j86ldUzxPvj8"
      },
      "source": [
        "def train(x, t):\n",
        "    with tf.GradientTape() as tape:\n",
        "        preds = net(x)\n",
        "        loss = criterion(t, preds)\n",
        "        grads = tape.gradient(loss, net.trainable_variables) \n",
        "    optimizer.apply_gradients(zip(grads, net.trainable_variables))\n",
        "    train_loss(loss)\n",
        "    train_acc(t, preds)\n",
        "\n",
        "def test(x, t):\n",
        "    preds = net(x)\n",
        "    loss = criterion(t, preds)\n",
        "    test_loss(loss)\n",
        "    test_acc(t, preds)"
      ],
      "execution_count": null,
      "outputs": []
    },
    {
      "cell_type": "code",
      "metadata": {
        "id": "Q5n3InYrPyVb",
        "outputId": "dd6ab2e8-339b-460f-979e-24fd6d4b2325",
        "colab": {
          "base_uri": "https://localhost:8080/",
          "height": 68
        }
      },
      "source": [
        "import time\n",
        "\n",
        "start = time.time()\n",
        "print('start {}'.format(start))\n",
        "\n",
        "for epoch in range(epochs):\n",
        "    for batch in train_ds:\n",
        "        x, t = batch\n",
        "        train(x, t)\n",
        "    for batch in test_ds:\n",
        "        x, t = batch\n",
        "        test(x, t)\n",
        "\n",
        "    train_loss.reset_states()\n",
        "    train_acc.reset_states()\n",
        "    test_loss.reset_states()\n",
        "    test_acc.reset_states()\n",
        "\n",
        "end = time.time()\n",
        "print('end {}'.format(end))\n",
        "\n",
        "print(\"@tf.function なし：{}\".format(end - start))"
      ],
      "execution_count": null,
      "outputs": [
        {
          "output_type": "stream",
          "text": [
            "start 1599118735.4095879\n",
            "end 1599119590.4397452\n",
            "@tf.function なし：855.030157327652\n"
          ],
          "name": "stdout"
        }
      ]
    },
    {
      "cell_type": "code",
      "metadata": {
        "id": "bs7jZCh6QpLb",
        "outputId": "05c2def1-52c5-4ac9-e928-f959f9cdc666",
        "colab": {
          "base_uri": "https://localhost:8080/",
          "height": 68
        }
      },
      "source": [
        "@tf.function\n",
        "def train(x, t):\n",
        "    with tf.GradientTape() as tape:\n",
        "        preds = net(x)\n",
        "        loss = criterion(t, preds)\n",
        "        grads = tape.gradient(loss, net.trainable_variables) \n",
        "    optimizer.apply_gradients(zip(grads, net.trainable_variables))\n",
        "    train_loss(loss)\n",
        "    train_acc(t, preds)\n",
        "    return loss \n",
        "\n",
        "def test(x, t):\n",
        "    preds = net(x)\n",
        "    loss = criterion(t, preds)\n",
        "    test_loss(loss)\n",
        "    test_acc(t, preds)\n",
        "\n",
        "start = time.time()\n",
        "print('start {}'.format(start))\n",
        "\n",
        "for epoch in range(epochs):\n",
        "    for batch in train_ds:\n",
        "        x, t = batch\n",
        "        train(x, t)\n",
        "    for batch in test_ds:\n",
        "        x, t = batch\n",
        "        test(x, t)\n",
        "\n",
        "    train_loss.reset_states()\n",
        "    train_acc.reset_states()\n",
        "    test_loss.reset_states()\n",
        "    test_acc.reset_states()\n",
        "\n",
        "end = time.time()\n",
        "print('end {}'.format(end))\n",
        "\n",
        "print(\"@tf.function あり：{}\".format(end - start))"
      ],
      "execution_count": null,
      "outputs": [
        {
          "output_type": "stream",
          "text": [
            "start 1599119591.4841387\n",
            "end 1599120187.5748258\n",
            "@tf.function あり：596.0906870365143\n"
          ],
          "name": "stdout"
        }
      ]
    },
    {
      "cell_type": "code",
      "metadata": {
        "id": "KZQcisxsyoYr"
      },
      "source": [
        ""
      ],
      "execution_count": null,
      "outputs": []
    }
  ]
}