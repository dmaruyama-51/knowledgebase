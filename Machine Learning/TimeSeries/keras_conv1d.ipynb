{
 "cells": [
  {
   "cell_type": "markdown",
   "metadata": {},
   "source": [
    "## １次元畳み込みのサンプル\n",
    "https://qiita.com/niisan-tokyo/items/a94dbd3134219f19cab1\n",
    "    \n",
    "こちらを参考に。"
   ]
  },
  {
   "cell_type": "code",
   "execution_count": 3,
   "metadata": {},
   "outputs": [],
   "source": [
    "import numpy as np\n",
    "import pandas as pd\n",
    "import matplotlib.pyplot as plt\n",
    "%matplotlib inline\n",
    "\n",
    "import tensorflow as tf\n",
    "from tensorflow import keras\n",
    "from tensorflow.keras import models, layers"
   ]
  },
  {
   "cell_type": "markdown",
   "metadata": {},
   "source": [
    "### データの用意"
   ]
  },
  {
   "cell_type": "code",
   "execution_count": 5,
   "metadata": {},
   "outputs": [],
   "source": [
    "timeline = np.arange(10000)\n",
    "epochs = 100\n",
    "\n",
    "def sinnp(n, line):\n",
    "    return np.sin(line * n / 100)\n",
    "\n",
    "def cosnp(n, line):\n",
    "    return np.cos(line * n / 100)\n",
    "\n",
    "raw_data = (sinnp(1, timeline) + sinnp(3, timeline) + sinnp(10, timeline) + cosnp(5, timeline) + cosnp(7, timeline)) / 5\n",
    "raw_data = raw_data + (np.random.rand(len(timeline)) * 0.1)# ノイズ項"
   ]
  },
  {
   "cell_type": "code",
   "execution_count": 6,
   "metadata": {},
   "outputs": [
    {
     "name": "stderr",
     "output_type": "stream",
     "text": [
      "C:\\Users\\daich\\Anaconda3\\lib\\site-packages\\matplotlib\\backends\\backend_agg.py:211: RuntimeWarning: Glyph 26178 missing from current font.\n",
      "  font.set_text(s, 0.0, flags=flags)\n",
      "C:\\Users\\daich\\Anaconda3\\lib\\site-packages\\matplotlib\\backends\\backend_agg.py:211: RuntimeWarning: Glyph 38291 missing from current font.\n",
      "  font.set_text(s, 0.0, flags=flags)\n",
      "C:\\Users\\daich\\Anaconda3\\lib\\site-packages\\matplotlib\\backends\\backend_agg.py:180: RuntimeWarning: Glyph 26178 missing from current font.\n",
      "  font.set_text(s, 0, flags=flags)\n",
      "C:\\Users\\daich\\Anaconda3\\lib\\site-packages\\matplotlib\\backends\\backend_agg.py:180: RuntimeWarning: Glyph 38291 missing from current font.\n",
      "  font.set_text(s, 0, flags=flags)\n",
      "C:\\Users\\daich\\Anaconda3\\lib\\site-packages\\matplotlib\\backends\\backend_agg.py:211: RuntimeWarning: Glyph 28204 missing from current font.\n",
      "  font.set_text(s, 0.0, flags=flags)\n",
      "C:\\Users\\daich\\Anaconda3\\lib\\site-packages\\matplotlib\\backends\\backend_agg.py:211: RuntimeWarning: Glyph 23450 missing from current font.\n",
      "  font.set_text(s, 0.0, flags=flags)\n",
      "C:\\Users\\daich\\Anaconda3\\lib\\site-packages\\matplotlib\\backends\\backend_agg.py:211: RuntimeWarning: Glyph 20516 missing from current font.\n",
      "  font.set_text(s, 0.0, flags=flags)\n",
      "C:\\Users\\daich\\Anaconda3\\lib\\site-packages\\matplotlib\\backends\\backend_agg.py:180: RuntimeWarning: Glyph 28204 missing from current font.\n",
      "  font.set_text(s, 0, flags=flags)\n",
      "C:\\Users\\daich\\Anaconda3\\lib\\site-packages\\matplotlib\\backends\\backend_agg.py:180: RuntimeWarning: Glyph 23450 missing from current font.\n",
      "  font.set_text(s, 0, flags=flags)\n",
      "C:\\Users\\daich\\Anaconda3\\lib\\site-packages\\matplotlib\\backends\\backend_agg.py:180: RuntimeWarning: Glyph 20516 missing from current font.\n",
      "  font.set_text(s, 0, flags=flags)\n"
     ]
    },
    {
     "data": {
      "image/png": "[encoded data removed]",
      "text/plain": [
       "<Figure size 432x288 with 1 Axes>"
      ]
     },
     "metadata": {
      "needs_background": "light"
     },
     "output_type": "display_data"
    }
   ],
   "source": [
    "plt.plot(timeline[:600], raw_data[:600])\n",
    "plt.xlabel(\"時間\")\n",
    "plt.ylabel(\"測定値\")\n",
    "plt.show()"
   ]
  },
  {
   "cell_type": "markdown",
   "metadata": {},
   "source": [
    "### 入出力データの定義"
   ]
  },
  {
   "cell_type": "markdown",
   "metadata": {},
   "source": [
    "- 64個の時系列データを元に、次の16個の時系列データを生成する"
   ]
  },
  {
   "cell_type": "code",
   "execution_count": 7,
   "metadata": {},
   "outputs": [],
   "source": [
    "input_data = []\n",
    "output_data = []\n",
    "\n",
    "for n in range(10000-80):\n",
    "    input_data.append(raw_data[n:n+64])\n",
    "    output_data.append(raw_data[n+64:n+80])\n",
    "\n",
    "input_data = np.array(input_data)\n",
    "output_data = np.array(output_data)\n"
   ]
  },
  {
   "cell_type": "code",
   "execution_count": 8,
   "metadata": {},
   "outputs": [
    {
     "data": {
      "text/plain": [
       "((9920, 64), (9920, 16))"
      ]
     },
     "execution_count": 8,
     "metadata": {},
     "output_type": "execute_result"
    }
   ],
   "source": [
    "input_data.shape, output_data.shape"
   ]
  },
  {
   "cell_type": "markdown",
   "metadata": {},
   "source": [
    "１次元畳み込みの注意点\n",
    "- shape : (<シーケンス長>, <パラメータ数>)"
   ]
  },
  {
   "cell_type": "code",
   "execution_count": 10,
   "metadata": {},
   "outputs": [
    {
     "data": {
      "text/plain": [
       "((9920, 64, 1), (9920, 16, 1))"
      ]
     },
     "execution_count": 10,
     "metadata": {},
     "output_type": "execute_result"
    }
   ],
   "source": [
    "train_X = np.reshape(input_data, (-1,64,1))\n",
    "train_t = np.reshape(output_data, (-1,16,1))\n",
    "\n",
    "train_X.shape, train_t.shape"
   ]
  },
  {
   "cell_type": "markdown",
   "metadata": {},
   "source": [
    "### モデルの作成"
   ]
  },
  {
   "cell_type": "code",
   "execution_count": 12,
   "metadata": {},
   "outputs": [],
   "source": [
    "model = models.Sequential()\n",
    "\n",
    "model.add(layers.Conv1D(64, 8, padding=\"same\", input_shape=(64,1), activation=\"relu\"))\n",
    "model.add(layers.MaxPool1D(2, padding=\"same\"))\n",
    "model.add(layers.Conv1D(64, 8, padding=\"same\", activation=\"relu\"))\n",
    "model.add(layers.MaxPool1D(2, padding=\"same\"))\n",
    "model.add(layers.Conv1D(32, 8, padding=\"same\", activation=\"relu\"))\n",
    "model.add(layers.Conv1D(1, 8, padding=\"same\", activation=\"tanh\"))\n",
    "\n",
    "model.compile(loss=\"mse\", optimizer=keras.optimizers.Adam(lr=0.01))"
   ]
  },
  {
   "cell_type": "code",
   "execution_count": 14,
   "metadata": {},
   "outputs": [
    {
     "name": "stdout",
     "output_type": "stream",
     "text": [
      "Model: \"sequential_1\"\n",
      "_________________________________________________________________\n",
      "Layer (type)                 Output Shape              Param #   \n",
      "=================================================================\n",
      "conv1d_1 (Conv1D)            (None, 64, 64)            576       \n",
      "_________________________________________________________________\n",
      "max_pooling1d (MaxPooling1D) (None, 32, 64)            0         \n",
      "_________________________________________________________________\n",
      "conv1d_2 (Conv1D)            (None, 32, 64)            32832     \n",
      "_________________________________________________________________\n",
      "max_pooling1d_1 (MaxPooling1 (None, 16, 64)            0         \n",
      "_________________________________________________________________\n",
      "conv1d_3 (Conv1D)            (None, 16, 32)            16416     \n",
      "_________________________________________________________________\n",
      "conv1d_4 (Conv1D)            (None, 16, 1)             257       \n",
      "=================================================================\n",
      "Total params: 50,081\n",
      "Trainable params: 50,081\n",
      "Non-trainable params: 0\n",
      "_________________________________________________________________\n"
     ]
    }
   ],
   "source": [
    "model.summary()"
   ]
  },
  {
   "cell_type": "code",
   "execution_count": 15,
   "metadata": {},
   "outputs": [
    {
     "name": "stdout",
     "output_type": "stream",
     "text": [
      "Train on 8928 samples, validate on 992 samples\n",
      "Epoch 1/100\n",
      "8928/8928 [==============================] - 8s 859us/sample - loss: 0.0489 - val_loss: 0.0117\n",
      "Epoch 2/100\n",
      "8928/8928 [==============================] - 6s 657us/sample - loss: 0.0096 - val_loss: 0.0077\n",
      "Epoch 3/100\n",
      "8928/8928 [==============================] - 6s 657us/sample - loss: 0.0076 - val_loss: 0.0067\n",
      "Epoch 4/100\n",
      "8928/8928 [==============================] - 6s 656us/sample - loss: 0.0063 - val_loss: 0.0059\n",
      "Epoch 5/100\n",
      "8928/8928 [==============================] - 6s 670us/sample - loss: 0.0057 - val_loss: 0.0068\n",
      "Epoch 6/100\n",
      "8928/8928 [==============================] - 6s 667us/sample - loss: 0.0052 - val_loss: 0.0055\n",
      "Epoch 7/100\n",
      "8928/8928 [==============================] - 6s 671us/sample - loss: 0.0049 - val_loss: 0.0050\n",
      "Epoch 8/100\n",
      "8928/8928 [==============================] - 6s 675us/sample - loss: 0.0047 - val_loss: 0.0054\n",
      "Epoch 9/100\n",
      "8928/8928 [==============================] - 6s 676us/sample - loss: 0.0047 - val_loss: 0.0051\n",
      "Epoch 10/100\n",
      "8928/8928 [==============================] - 6s 674us/sample - loss: 0.0044 - val_loss: 0.0049\n",
      "Epoch 11/100\n",
      "8928/8928 [==============================] - 6s 672us/sample - loss: 0.0042 - val_loss: 0.0046\n",
      "Epoch 12/100\n",
      "8928/8928 [==============================] - 6s 676us/sample - loss: 0.0043 - val_loss: 0.0045\n",
      "Epoch 13/100\n",
      "8928/8928 [==============================] - 6s 673us/sample - loss: 0.0040 - val_loss: 0.0056\n",
      "Epoch 14/100\n",
      "8928/8928 [==============================] - 6s 671us/sample - loss: 0.0040 - val_loss: 0.0046\n",
      "Epoch 15/100\n",
      "8928/8928 [==============================] - 6s 670us/sample - loss: 0.0040 - val_loss: 0.0042\n",
      "Epoch 16/100\n",
      "8928/8928 [==============================] - 6s 674us/sample - loss: 0.0037 - val_loss: 0.0038\n",
      "Epoch 17/100\n",
      "8928/8928 [==============================] - 6s 677us/sample - loss: 0.0037 - val_loss: 0.0038\n",
      "Epoch 18/100\n",
      "8928/8928 [==============================] - 6s 678us/sample - loss: 0.0037 - val_loss: 0.0040\n",
      "Epoch 19/100\n",
      "8928/8928 [==============================] - 6s 681us/sample - loss: 0.0037 - val_loss: 0.0045\n",
      "Epoch 20/100\n",
      "8928/8928 [==============================] - 6s 682us/sample - loss: 0.0037 - val_loss: 0.0037\n",
      "Epoch 21/100\n",
      "8928/8928 [==============================] - 6s 698us/sample - loss: 0.0036 - val_loss: 0.0050\n",
      "Epoch 22/100\n",
      "8928/8928 [==============================] - 6s 698us/sample - loss: 0.0038 - val_loss: 0.0034\n",
      "Epoch 23/100\n",
      "8928/8928 [==============================] - 6s 712us/sample - loss: 0.0036 - val_loss: 0.0037\n",
      "Epoch 24/100\n",
      "8928/8928 [==============================] - 6s 618us/sample - loss: 0.0040 - val_loss: 0.0035\n",
      "Epoch 25/100\n",
      "8928/8928 [==============================] - 6s 703us/sample - loss: 0.0035 - val_loss: 0.0034\n",
      "Epoch 26/100\n",
      "8928/8928 [==============================] - 6s 647us/sample - loss: 0.0033 - val_loss: 0.0039\n",
      "Epoch 27/100\n",
      "8928/8928 [==============================] - 6s 657us/sample - loss: 0.0032 - val_loss: 0.0041\n",
      "Epoch 28/100\n",
      "8928/8928 [==============================] - 6s 693us/sample - loss: 0.0039 - val_loss: 0.0036\n",
      "Epoch 29/100\n",
      "8928/8928 [==============================] - 6s 690us/sample - loss: 0.0035 - val_loss: 0.0044\n",
      "Epoch 30/100\n",
      "8928/8928 [==============================] - 6s 684us/sample - loss: 0.0033 - val_loss: 0.0040\n",
      "Epoch 31/100\n",
      "8928/8928 [==============================] - 6s 660us/sample - loss: 0.0034 - val_loss: 0.0034\n",
      "Epoch 32/100\n",
      "8928/8928 [==============================] - 6s 662us/sample - loss: 0.0033 - val_loss: 0.0036\n",
      "Epoch 33/100\n",
      "8928/8928 [==============================] - 6s 690us/sample - loss: 0.0035 - val_loss: 0.0036\n",
      "Epoch 34/100\n",
      "8928/8928 [==============================] - 6s 617us/sample - loss: 0.0034 - val_loss: 0.0049\n",
      "Epoch 35/100\n",
      "8928/8928 [==============================] - 6s 654us/sample - loss: 0.0034 - val_loss: 0.0034\n",
      "Epoch 36/100\n",
      "8928/8928 [==============================] - 6s 667us/sample - loss: 0.0033 - val_loss: 0.0035\n",
      "Epoch 37/100\n",
      "8928/8928 [==============================] - 6s 664us/sample - loss: 0.0032 - val_loss: 0.0033\n",
      "Epoch 38/100\n",
      "8928/8928 [==============================] - 6s 666us/sample - loss: 0.0030 - val_loss: 0.0032\n",
      "Epoch 39/100\n",
      "8928/8928 [==============================] - 6s 657us/sample - loss: 0.0031 - val_loss: 0.0038\n",
      "Epoch 40/100\n",
      "8928/8928 [==============================] - 5s 584us/sample - loss: 0.0031 - val_loss: 0.0034\n",
      "Epoch 41/100\n",
      "8928/8928 [==============================] - 6s 656us/sample - loss: 0.0030 - val_loss: 0.0036\n",
      "Epoch 42/100\n",
      "8928/8928 [==============================] - 6s 650us/sample - loss: 0.0035 - val_loss: 0.0032\n",
      "Epoch 43/100\n",
      "8928/8928 [==============================] - 6s 660us/sample - loss: 0.0031 - val_loss: 0.0039\n",
      "Epoch 44/100\n",
      "8928/8928 [==============================] - 6s 653us/sample - loss: 0.0031 - val_loss: 0.0037\n",
      "Epoch 45/100\n",
      "8928/8928 [==============================] - 6s 654us/sample - loss: 0.0034 - val_loss: 0.0031\n",
      "Epoch 46/100\n",
      "8928/8928 [==============================] - 6s 648us/sample - loss: 0.0031 - val_loss: 0.0041\n",
      "Epoch 47/100\n",
      "8928/8928 [==============================] - 6s 638us/sample - loss: 0.0029 - val_loss: 0.0033\n",
      "Epoch 48/100\n",
      "8928/8928 [==============================] - 6s 639us/sample - loss: 0.0034 - val_loss: 0.0039\n",
      "Epoch 49/100\n",
      "8928/8928 [==============================] - 6s 650us/sample - loss: 0.0031 - val_loss: 0.0036\n",
      "Epoch 50/100\n",
      "8928/8928 [==============================] - 6s 652us/sample - loss: 0.0030 - val_loss: 0.0034\n",
      "Epoch 51/100\n",
      "8928/8928 [==============================] - 6s 641us/sample - loss: 0.0032 - val_loss: 0.0038\n",
      "Epoch 52/100\n",
      "8928/8928 [==============================] - 6s 642us/sample - loss: 0.0032 - val_loss: 0.0038\n",
      "Epoch 53/100\n",
      "8928/8928 [==============================] - 6s 653us/sample - loss: 0.0031 - val_loss: 0.0036\n",
      "Epoch 54/100\n",
      "8928/8928 [==============================] - 6s 644us/sample - loss: 0.0029 - val_loss: 0.0041\n",
      "Epoch 55/100\n",
      "8928/8928 [==============================] - 6s 632us/sample - loss: 0.0032 - val_loss: 0.0036\n",
      "Epoch 56/100\n",
      "8928/8928 [==============================] - 6s 638us/sample - loss: 0.0029 - val_loss: 0.0035\n",
      "Epoch 57/100\n",
      "8928/8928 [==============================] - 6s 653us/sample - loss: 0.0031 - val_loss: 0.0030\n",
      "Epoch 58/100\n",
      "8928/8928 [==============================] - 6s 650us/sample - loss: 0.0029 - val_loss: 0.0036\n",
      "Epoch 59/100\n",
      "8928/8928 [==============================] - 6s 641us/sample - loss: 0.0032 - val_loss: 0.0047\n",
      "Epoch 60/100\n",
      "8928/8928 [==============================] - 6s 639us/sample - loss: 0.0029 - val_loss: 0.0033\n",
      "Epoch 61/100\n",
      "8928/8928 [==============================] - 6s 633us/sample - loss: 0.0030 - val_loss: 0.0031\n",
      "Epoch 62/100\n",
      "8928/8928 [==============================] - 6s 642us/sample - loss: 0.0030 - val_loss: 0.0036\n",
      "Epoch 63/100\n",
      "8928/8928 [==============================] - 6s 656us/sample - loss: 0.0031 - val_loss: 0.0041\n",
      "Epoch 64/100\n",
      "8928/8928 [==============================] - 6s 636us/sample - loss: 0.0029 - val_loss: 0.0045\n",
      "Epoch 65/100\n",
      "8928/8928 [==============================] - 6s 636us/sample - loss: 0.0032 - val_loss: 0.0034\n",
      "Epoch 66/100\n",
      "8928/8928 [==============================] - 6s 653us/sample - loss: 0.0032 - val_loss: 0.0036\n",
      "Epoch 67/100\n",
      "8928/8928 [==============================] - 6s 647us/sample - loss: 0.0029 - val_loss: 0.0031\n",
      "Epoch 68/100\n",
      "8928/8928 [==============================] - 6s 645us/sample - loss: 0.0030 - val_loss: 0.0033\n",
      "Epoch 69/100\n",
      "8928/8928 [==============================] - 6s 642us/sample - loss: 0.0030 - val_loss: 0.0029\n",
      "Epoch 70/100\n",
      "8928/8928 [==============================] - 6s 642us/sample - loss: 0.0029 - val_loss: 0.0032\n",
      "Epoch 71/100\n",
      "8928/8928 [==============================] - 6s 646us/sample - loss: 0.0030 - val_loss: 0.0029\n",
      "Epoch 72/100\n",
      "8928/8928 [==============================] - 6s 661us/sample - loss: 0.0031 - val_loss: 0.0034\n",
      "Epoch 73/100\n",
      "8928/8928 [==============================] - 6s 657us/sample - loss: 0.0029 - val_loss: 0.0035\n",
      "Epoch 74/100\n",
      "8928/8928 [==============================] - 6s 661us/sample - loss: 0.0028 - val_loss: 0.0031\n",
      "Epoch 75/100\n",
      "8928/8928 [==============================] - 6s 660us/sample - loss: 0.0030 - val_loss: 0.0032\n",
      "Epoch 76/100\n",
      "8928/8928 [==============================] - 6s 662us/sample - loss: 0.0028 - val_loss: 0.0033\n",
      "Epoch 77/100\n",
      "8928/8928 [==============================] - 6s 662us/sample - loss: 0.0028 - val_loss: 0.0037\n",
      "Epoch 78/100\n",
      "8928/8928 [==============================] - 6s 665us/sample - loss: 0.0030 - val_loss: 0.0029\n",
      "Epoch 79/100\n",
      "8928/8928 [==============================] - 6s 671us/sample - loss: 0.0029 - val_loss: 0.0044\n",
      "Epoch 80/100\n",
      "8928/8928 [==============================] - 6s 654us/sample - loss: 0.0031 - val_loss: 0.0029\n",
      "Epoch 81/100\n",
      "8928/8928 [==============================] - 6s 640us/sample - loss: 0.0029 - val_loss: 0.0033\n",
      "Epoch 82/100\n",
      "8928/8928 [==============================] - 6s 648us/sample - loss: 0.0028 - val_loss: 0.0037\n",
      "Epoch 83/100\n",
      "8928/8928 [==============================] - 6s 632us/sample - loss: 0.0029 - val_loss: 0.0032\n",
      "Epoch 84/100\n",
      "8928/8928 [==============================] - 6s 642us/sample - loss: 0.0028 - val_loss: 0.0027\n",
      "Epoch 85/100\n",
      "8928/8928 [==============================] - 6s 646us/sample - loss: 0.0030 - val_loss: 0.0029\n",
      "Epoch 86/100\n",
      "8928/8928 [==============================] - 6s 673us/sample - loss: 0.0027 - val_loss: 0.0031\n",
      "Epoch 87/100\n",
      "8928/8928 [==============================] - 6s 670us/sample - loss: 0.0027 - val_loss: 0.0030\n",
      "Epoch 88/100\n",
      "8928/8928 [==============================] - 6s 657us/sample - loss: 0.0031 - val_loss: 0.0034\n",
      "Epoch 89/100\n",
      "8928/8928 [==============================] - 6s 641us/sample - loss: 0.0027 - val_loss: 0.0027\n",
      "Epoch 90/100\n",
      "8928/8928 [==============================] - 6s 662us/sample - loss: 0.0032 - val_loss: 0.0032\n",
      "Epoch 91/100\n",
      "8928/8928 [==============================] - 6s 695us/sample - loss: 0.0029 - val_loss: 0.0033\n",
      "Epoch 92/100\n",
      "8928/8928 [==============================] - 6s 682us/sample - loss: 0.0028 - val_loss: 0.0040\n",
      "Epoch 93/100\n",
      "8928/8928 [==============================] - 6s 686us/sample - loss: 0.0029 - val_loss: 0.0032\n",
      "Epoch 94/100\n",
      "8928/8928 [==============================] - 6s 684us/sample - loss: 0.0029 - val_loss: 0.0046\n",
      "Epoch 95/100\n",
      "8928/8928 [==============================] - 6s 683us/sample - loss: 0.0031 - val_loss: 0.0038\n",
      "Epoch 96/100\n",
      "8928/8928 [==============================] - 6s 683us/sample - loss: 0.0026 - val_loss: 0.0031\n",
      "Epoch 97/100\n",
      "8928/8928 [==============================] - 6s 683us/sample - loss: 0.0033 - val_loss: 0.0054\n",
      "Epoch 98/100\n",
      "8928/8928 [==============================] - 6s 696us/sample - loss: 0.0030 - val_loss: 0.0033\n",
      "Epoch 99/100\n",
      "8928/8928 [==============================] - 6s 622us/sample - loss: 0.0030 - val_loss: 0.0038\n",
      "Epoch 100/100\n",
      "8928/8928 [==============================] - 6s 674us/sample - loss: 0.0027 - val_loss: 0.0033\n"
     ]
    }
   ],
   "source": [
    "history = model.fit(train_X, train_t, validation_split=0.1, epochs=epochs)"
   ]
  },
  {
   "cell_type": "code",
   "execution_count": 16,
   "metadata": {},
   "outputs": [
    {
     "data": {
      "text/plain": [
       "<matplotlib.axes._subplots.AxesSubplot at 0x2718713a848>"
      ]
     },
     "execution_count": 16,
     "metadata": {},
     "output_type": "execute_result"
    },
    {
     "data": {
      "image/png": "[encoded data removed]",
      "text/plain": [
       "<Figure size 432x288 with 1 Axes>"
      ]
     },
     "metadata": {
      "needs_background": "light"
     },
     "output_type": "display_data"
    }
   ],
   "source": [
    "results = pd.DataFrame(history.history)\n",
    "results.plot()"
   ]
  },
  {
   "cell_type": "markdown",
   "metadata": {},
   "source": [
    "### 推論"
   ]
  },
  {
   "cell_type": "code",
   "execution_count": 20,
   "metadata": {},
   "outputs": [],
   "source": [
    "start = 9100\n",
    "sheed = np.reshape(raw_data[start:start+64],(1,64,1))\n",
    "prediction = sheed\n",
    "\n",
    "for i in range(20):\n",
    "    res = model.predict(sheed)\n",
    "    sheed = np.concatenate((sheed[:, 16:, :], res), axis=1)\n",
    "    prediction = np.concatenate((prediction, res), axis=1)"
   ]
  },
  {
   "cell_type": "code",
   "execution_count": 23,
   "metadata": {},
   "outputs": [
    {
     "name": "stdout",
     "output_type": "stream",
     "text": [
      "(1, 384, 1)\n",
      "(384,)\n"
     ]
    },
    {
     "data": {
      "image/png": "[encoded data removed]",
      "text/plain": [
       "<Figure size 432x288 with 1 Axes>"
      ]
     },
     "metadata": {
      "needs_background": "light"
     },
     "output_type": "display_data"
    }
   ],
   "source": [
    "print(prediction.shape)\n",
    "predictor = np.reshape(prediction, (-1))\n",
    "print(predictor.shape)\n",
    "plt.plot(range(len(predictor)), predictor, label='predict')\n",
    "plt.plot(range(len(predictor)), raw_data[start:start + len(predictor)], label='real')\n",
    "plt.legend() \n",
    "plt.show()"
   ]
  },
  {
   "cell_type": "code",
   "execution_count": 27,
   "metadata": {},
   "outputs": [
    {
     "data": {
      "text/plain": [
       "(100,)"
      ]
     },
     "execution_count": 27,
     "metadata": {},
     "output_type": "execute_result"
    }
   ],
   "source": [
    "raw_data[100:200].shape"
   ]
  },
  {
   "cell_type": "code",
   "execution_count": null,
   "metadata": {},
   "outputs": [],
   "source": []
  }
 ],
 "metadata": {
  "kernelspec": {
   "display_name": "Python 3",
   "language": "python",
   "name": "python3"
  },
  "language_info": {
   "codemirror_mode": {
    "name": "ipython",
    "version": 3
   },
   "file_extension": ".py",
   "mimetype": "text/x-python",
   "name": "python",
   "nbconvert_exporter": "python",
   "pygments_lexer": "ipython3",
   "version": "3.7.4"
  }
 },
 "nbformat": 4,
 "nbformat_minor": 2
}
